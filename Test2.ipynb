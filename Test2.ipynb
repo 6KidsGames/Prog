{
 "cells": [
  {
   "cell_type": "markdown",
   "metadata": {},
   "source": [
    "This is a test notebook for the IJavascript kernel."
   ]
  },
  {
   "cell_type": "code",
   "execution_count": null,
   "metadata": {
    "collapsed": false
   },
   "outputs": [],
   "source": [
    "// This is a bit of JavaScript code.\n",
    "// Press Shift+Enter while your focus is here to run this code and see the result.\n",
    "var i = 0;\n",
    "while (i < 22) {\n",
    "    console.log(`Current: ${i}`);\n",
    "    i++;\n",
    "}"
   ]
  },
  {
   "cell_type": "markdown",
   "metadata": {},
   "source": [
    "# Running code locally\n",
    "This is a test of markdown.\n",
    "\n",
    "- asdasd\n",
    "- asdas\n",
    "\n",
    "1. one\n",
    "1. two\n",
    "3. three\n",
    "\n",
    ":+1:\n",
    "\n"
   ]
  }
 ],
 "metadata": {
  "anaconda-cloud": {},
  "kernelspec": {
   "display_name": "Javascript (Node.js)",
   "language": "javascript",
   "name": "javascript"
  },
  "language_info": {
   "file_extension": ".js",
   "mimetype": "application/javascript",
   "name": "javascript",
   "version": "7.4.0"
  }
 },
 "nbformat": 4,
 "nbformat_minor": 1
}

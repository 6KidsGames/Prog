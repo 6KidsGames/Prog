{
 "cells": [
  {
   "cell_type": "markdown",
   "metadata": {},
   "source": [
    "This is a test notebook for the IJavascript kernel."
   ]
  },
  {
   "cell_type": "code",
   "execution_count": 2,
   "metadata": {
    "collapsed": false
   },
   "outputs": [
    {
     "name": "stdout",
     "output_type": "stream",
     "text": [
      "Current: 0\n",
      "Current: 1\n",
      "Current: 2\n",
      "Current: 3\n",
      "Current: 4\n",
      "Current: 5\n",
      "Current: 6\n",
      "Current: 7\n",
      "Current: 8\n",
      "Current: 9\n",
      "Current: 10\n",
      "Current: 11\n",
      "Current: 12\n",
      "Current: 13\n",
      "Current: 14\n",
      "Current: 15\n",
      "Current: 16\n",
      "Current: 17\n",
      "Current: 18\n",
      "Current: 19\n",
      "Current: 20\n",
      "Current: 21\n"
     ]
    },
    {
     "data": {
      "text/plain": [
       "21"
      ]
     },
     "execution_count": 2,
     "metadata": {},
     "output_type": "execute_result"
    }
   ],
   "source": [
    "// This is a bit of JavaScript code.\n",
    "// Press Shift+Enter while your focus is here to run this code and see the result.\n",
    "var i = 0;\n",
    "while (i < 22) {\n",
    "    console.log(`Current: ${i}`);\n",
    "    i++;\n",
    "}"
   ]
  },
  {
   "cell_type": "markdown",
   "metadata": {},
   "source": [
    "# Running code locally\n",
    "This is a test of markdown.\n",
    "\n",
    "- asdasd\n",
    "- asdas\n",
    "\n",
    "1. one\n",
    "1. two\n",
    "3. three\n",
    "\n",
    ":+1:\n",
    "\n"
   ]
  }
 ],
 "metadata": {
  "anaconda-cloud": {},
  "kernelspec": {
   "display_name": "Javascript (Node.js)",
   "language": "javascript",
   "name": "javascript"
  },
  "language_info": {
   "file_extension": ".js",
   "mimetype": "application/javascript",
   "name": "javascript",
   "version": "6.9.1"
  }
 },
 "nbformat": 4,
 "nbformat_minor": 1
}
